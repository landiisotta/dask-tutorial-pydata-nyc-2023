{
 "cells": [
  {
   "cell_type": "markdown",
   "id": "8810e16e-2d5d-4fd2-9720-818495543c67",
   "metadata": {},
   "source": [
    "<img src=\"https://raw.githubusercontent.com/dask/dask/main/docs/source/images/dask_horizontal.svg\"\n",
    "     width=\"60%\"\n",
    "     alt=\"Dask logo\\\" />\n",
    "\n",
    "# Time for a Test Drive!\n",
    "\n",
    "You've spent some time walking around the Dascar lot, hearing about all the awesome features and specs...\n",
    "\n",
    "That's enough talk. Let's jump into this racecar and see what it can do...\n",
    "\n",
    "We'll test drive:\n",
    "\n",
    "1. Dask DataFrames for faster & scalable pandas\n",
    "2. Dask Arrays for faster & scalable NumPy\n",
    "\n",
    "![](images/race-car.png \"Title\")"
   ]
  },
  {
   "cell_type": "markdown",
   "id": "faf9b4d5-b227-43d9-ba2c-6e140d0e5a6b",
   "metadata": {},
   "source": [
    "## Dask DataFrames\n",
    "\n",
    "The pandas car...with the Dask engine!"
   ]
  },
  {
   "cell_type": "code",
   "execution_count": null,
   "id": "6faf8453-0a2f-4e16-9fa5-fc6114f62e11",
   "metadata": {
    "tags": []
   },
   "outputs": [],
   "source": [
    "import dask.dataframe as dd"
   ]
  },
  {
   "cell_type": "code",
   "execution_count": null,
   "id": "26fbc24d-e552-4036-ac29-04daae66dafb",
   "metadata": {
    "tags": []
   },
   "outputs": [],
   "source": [
    "%run ../prep_data.py -d flights"
   ]
  },
  {
   "cell_type": "code",
   "execution_count": null,
   "id": "0cee0cfc-78fb-4ff9-ab27-4c3cb29a4bb8",
   "metadata": {
    "tags": []
   },
   "outputs": [],
   "source": [
    "import os\n",
    "\n",
    "files = os.path.join('../data', 'nycflights', '*.csv')\n",
    "files"
   ]
  },
  {
   "cell_type": "code",
   "execution_count": null,
   "id": "27375143-1bed-4e85-94e9-6d8e9dd92d1f",
   "metadata": {
    "tags": []
   },
   "outputs": [],
   "source": [
    "df = dd.read_csv(files,\n",
    "                 parse_dates={'Date': [0, 1, 2]},\n",
    "                 dtype={\"TailNum\": str,\n",
    "                        \"CRSElapsedTime\": float,\n",
    "                        \"Cancelled\": bool})"
   ]
  },
  {
   "cell_type": "code",
   "execution_count": null,
   "id": "20dc3d13-2f64-4cc3-9eac-a6d2fae8a7ca",
   "metadata": {
    "tags": []
   },
   "outputs": [],
   "source": [
    "df.head()"
   ]
  },
  {
   "cell_type": "code",
   "execution_count": null,
   "id": "6919db6e-0037-4af7-b6c3-525f4ea7597c",
   "metadata": {
    "tags": []
   },
   "outputs": [],
   "source": [
    "%%time\n",
    "df.groupby(\"Origin\")[\"DepDelay\"].mean().compute()"
   ]
  },
  {
   "cell_type": "markdown",
   "id": "7426f747-8b5c-4ee4-87f1-666444d4bda9",
   "metadata": {},
   "source": [
    "### A slight difference with pandas\n",
    "Notice the `.compute()` call: this is necessary because Dask operates using something called **lazy evaluation**.\n",
    "\n",
    "If you haven't heard about lazy evaluation before, check out [the Beginner's Guide to Distributed Computing](https://towardsdatascience.com/the-beginners-guide-to-distributed-computing-6d6833796318)."
   ]
  },
  {
   "cell_type": "code",
   "execution_count": null,
   "id": "4c2dab14-9799-40bf-a018-6d97da22548e",
   "metadata": {
    "tags": []
   },
   "outputs": [],
   "source": [
    "df"
   ]
  },
  {
   "cell_type": "code",
   "execution_count": null,
   "id": "f6f20861-cdd5-47b9-adee-ee9926362c00",
   "metadata": {
    "tags": []
   },
   "outputs": [],
   "source": [
    "df.visualize()"
   ]
  },
  {
   "cell_type": "markdown",
   "id": "60b62871-a3fa-4491-975f-2177b07204a7",
   "metadata": {
    "tags": []
   },
   "source": [
    "## Dask Arrays\n",
    "\n",
    "The Numpy car...with Dask engine superpowers!"
   ]
  },
  {
   "cell_type": "code",
   "execution_count": null,
   "id": "d35a97cc-0627-4bba-a100-e5266ab36b42",
   "metadata": {
    "tags": []
   },
   "outputs": [],
   "source": [
    "import dask.array as da"
   ]
  },
  {
   "cell_type": "code",
   "execution_count": null,
   "id": "7d7fb64a-ec42-4686-983c-0b0980a50277",
   "metadata": {
    "tags": []
   },
   "outputs": [],
   "source": [
    "array = da.random.random((10_000, 10_000), chunks=(1_000, 1_000))"
   ]
  },
  {
   "cell_type": "code",
   "execution_count": null,
   "id": "1deab8f7-9cfd-41d5-8bed-432d4ee8f198",
   "metadata": {
    "tags": []
   },
   "outputs": [],
   "source": [
    "array"
   ]
  },
  {
   "cell_type": "code",
   "execution_count": null,
   "id": "48b88ce4-d2b2-4ab0-a881-81a97b8bbfb8",
   "metadata": {
    "tags": []
   },
   "outputs": [],
   "source": [
    "array[:10,:5]"
   ]
  },
  {
   "cell_type": "code",
   "execution_count": null,
   "id": "482a0ea3-117b-47fc-bfe1-e660913366cc",
   "metadata": {
    "tags": []
   },
   "outputs": [],
   "source": [
    "array[:10,:5].compute()"
   ]
  },
  {
   "cell_type": "code",
   "execution_count": null,
   "id": "a7620d5e-1b68-4566-945a-55dc07e1de95",
   "metadata": {
    "tags": []
   },
   "outputs": [],
   "source": [
    "%%time\n",
    "array.sum(axis=1).compute()"
   ]
  },
  {
   "cell_type": "markdown",
   "id": "3927c81d-e6da-4cbd-bed7-206eb38d858c",
   "metadata": {},
   "source": [
    "# Digging Deeper\n",
    "\n",
    "Dask's lower-level APIs give you even more flexibility and control over what / how to parallelize your custom Python code.\n",
    "\n",
    "## Parallelize Python Code with `dask.delayed`"
   ]
  },
  {
   "cell_type": "code",
   "execution_count": null,
   "id": "f3e07394-2425-4505-8dd0-6db196966cf7",
   "metadata": {
    "tags": []
   },
   "outputs": [],
   "source": [
    "from time import sleep\n",
    "\n",
    "def inc(x):\n",
    "    \"\"\"Increments x by one\"\"\"\n",
    "    sleep(1)\n",
    "    return x + 1\n",
    "\n",
    "def add(x=0, y=0, z=0):\n",
    "    \"\"\"Adds x and y and z\"\"\"\n",
    "    sleep(1)\n",
    "    return x + y + z"
   ]
  },
  {
   "cell_type": "code",
   "execution_count": null,
   "id": "cf89a100-982b-4fcc-9278-25ec935d9fe2",
   "metadata": {
    "tags": []
   },
   "outputs": [],
   "source": [
    "%%time\n",
    "\n",
    "x = inc(1) # takes 1 second\n",
    "y = inc(2) # takes 1 second\n",
    "z = add(x, y) # takes 1 second"
   ]
  },
  {
   "cell_type": "code",
   "execution_count": null,
   "id": "b1448ca6-ea61-4809-ac0e-e12f8f00fe65",
   "metadata": {
    "tags": []
   },
   "outputs": [],
   "source": [
    "z"
   ]
  },
  {
   "cell_type": "code",
   "execution_count": null,
   "id": "6557c210-b758-4a56-8e34-e3f380ca53c9",
   "metadata": {
    "tags": []
   },
   "outputs": [],
   "source": [
    "from dask import delayed"
   ]
  },
  {
   "cell_type": "code",
   "execution_count": null,
   "id": "2671dd28-cf5e-4935-97d9-32e4358a507c",
   "metadata": {
    "tags": []
   },
   "outputs": [],
   "source": [
    "%%time\n",
    "\n",
    "a = delayed(inc)(1)\n",
    "b = delayed(inc)(2)\n",
    "c = delayed(add)(a, b)"
   ]
  },
  {
   "cell_type": "code",
   "execution_count": null,
   "id": "51d49b54-a638-4425-8a8a-487e79247dbd",
   "metadata": {
    "tags": []
   },
   "outputs": [],
   "source": [
    "c"
   ]
  },
  {
   "cell_type": "code",
   "execution_count": null,
   "id": "14d9dd86-d664-4d62-92e6-6872d4393de5",
   "metadata": {
    "tags": []
   },
   "outputs": [],
   "source": [
    "a.visualize()"
   ]
  },
  {
   "cell_type": "code",
   "execution_count": null,
   "id": "87a2f6a3-a7ef-4f9f-a2a7-f637a6d5a745",
   "metadata": {
    "tags": []
   },
   "outputs": [],
   "source": [
    "b.visualize()"
   ]
  },
  {
   "cell_type": "code",
   "execution_count": null,
   "id": "a5c9bd66-797f-4a2e-b7ab-98e8462477e8",
   "metadata": {
    "tags": []
   },
   "outputs": [],
   "source": [
    "c.visualize()"
   ]
  },
  {
   "cell_type": "code",
   "execution_count": null,
   "id": "1d47f1cf-9546-4c61-9d65-478f31c7086f",
   "metadata": {
    "tags": []
   },
   "outputs": [],
   "source": [
    "%%time\n",
    "c.compute()"
   ]
  },
  {
   "cell_type": "code",
   "execution_count": null,
   "id": "aee78635-af2c-434e-a13f-2e86cc603f61",
   "metadata": {
    "tags": []
   },
   "outputs": [],
   "source": [
    "d = delayed(inc)(3)"
   ]
  },
  {
   "cell_type": "code",
   "execution_count": null,
   "id": "2599ef10-b94e-42bd-9d88-f974ab5e4009",
   "metadata": {
    "tags": []
   },
   "outputs": [],
   "source": [
    "c = delayed(add)(a, b, d)"
   ]
  },
  {
   "cell_type": "code",
   "execution_count": null,
   "id": "75cbafe1-1384-4f25-9c0e-9d984d472ed2",
   "metadata": {
    "tags": []
   },
   "outputs": [],
   "source": [
    "c.visualize()"
   ]
  },
  {
   "cell_type": "code",
   "execution_count": null,
   "id": "0ca048c4-0ebe-42a4-8c8a-4a31acabcf06",
   "metadata": {
    "tags": []
   },
   "outputs": [],
   "source": [
    "%%time\n",
    "c.compute()"
   ]
  },
  {
   "cell_type": "code",
   "execution_count": null,
   "id": "a878f019-fe8b-4fad-ae6e-d18ff5c3299e",
   "metadata": {},
   "outputs": [],
   "source": []
  },
  {
   "cell_type": "markdown",
   "id": "f355e988-6c93-42de-9eb6-15cece1b1078",
   "metadata": {},
   "source": [
    "Task graphs can get...complicated:"
   ]
  },
  {
   "cell_type": "markdown",
   "id": "3db216dd-00ee-4123-b24a-49d4e09a6959",
   "metadata": {},
   "source": [
    "<img src=\"https://raw.githubusercontent.com/coiled/pydata-global-dask/master/images/grid_search_schedule.gif\"\n",
    "     width=\"95%\"\n",
    "     alt=\"Grid search schedule\\\" />"
   ]
  },
  {
   "cell_type": "code",
   "execution_count": null,
   "id": "b5132355-2c00-4c5d-b246-b6432dba955a",
   "metadata": {},
   "outputs": [],
   "source": []
  }
 ],
 "metadata": {
  "kernelspec": {
   "display_name": "Python 3 (ipykernel)",
   "language": "python",
   "name": "python3"
  },
  "language_info": {
   "codemirror_mode": {
    "name": "ipython",
    "version": 3
   },
   "file_extension": ".py",
   "mimetype": "text/x-python",
   "name": "python",
   "nbconvert_exporter": "python",
   "pygments_lexer": "ipython3",
   "version": "3.11.5"
  }
 },
 "nbformat": 4,
 "nbformat_minor": 5
}
